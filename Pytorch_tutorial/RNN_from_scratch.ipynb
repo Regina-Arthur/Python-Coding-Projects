{
  "nbformat": 4,
  "nbformat_minor": 0,
  "metadata": {
    "colab": {
      "provenance": [],
      "authorship_tag": "ABX9TyOfppkomTIQRG/wrSxVrNM1",
      "include_colab_link": true
    },
    "kernelspec": {
      "name": "python3",
      "display_name": "Python 3"
    },
    "language_info": {
      "name": "python"
    }
  },
  "cells": [
    {
      "cell_type": "markdown",
      "metadata": {
        "id": "view-in-github",
        "colab_type": "text"
      },
      "source": [
        "<a href=\"https://colab.research.google.com/github/Regina-Arthur/Coding-Practice-Projects/blob/main/Pytorch_tutorial/RNN_from_scratch.ipynb\" target=\"_parent\"><img src=\"https://colab.research.google.com/assets/colab-badge.svg\" alt=\"Open In Colab\"/></a>"
      ]
    },
    {
      "cell_type": "code",
      "source": [
        "from google.colab import drive\n",
        "drive.mount(\"/content/drive\")"
      ],
      "metadata": {
        "colab": {
          "base_uri": "https://localhost:8080/"
        },
        "id": "pAuHkeEHk2ob",
        "outputId": "58744905-d520-403a-ca64-4b3f2d0bed19"
      },
      "execution_count": null,
      "outputs": [
        {
          "output_type": "stream",
          "name": "stdout",
          "text": [
            "Mounted at /content/drive\n"
          ]
        }
      ]
    },
    {
      "cell_type": "code",
      "source": [
        "import pandas as pd\n",
        "\n",
        "# Load CSV\n",
        "df = pd.read_csv(\"/content/drive/MyDrive/traffic_prediction_dataset/traffic.csv\")\n",
        "\n",
        "print(df.head())"
      ],
      "metadata": {
        "colab": {
          "base_uri": "https://localhost:8080/"
        },
        "id": "KwrTRn-PrhL6",
        "outputId": "d460e153-e1ac-43e8-b4c4-21282e693c73"
      },
      "execution_count": null,
      "outputs": [
        {
          "output_type": "stream",
          "name": "stdout",
          "text": [
            "              DateTime  Junction  Vehicles           ID\n",
            "0  2015-11-01 00:00:00         1        15  20151101001\n",
            "1  2015-11-01 01:00:00         1        13  20151101011\n",
            "2  2015-11-01 02:00:00         1        10  20151101021\n",
            "3  2015-11-01 03:00:00         1         7  20151101031\n",
            "4  2015-11-01 04:00:00         1         9  20151101041\n"
          ]
        }
      ]
    },
    {
      "cell_type": "code",
      "source": [
        "# Convert to datetime\n",
        "df['datetime'] = pd.to_datetime(df['DateTime'])\n",
        "\n",
        "# Extract day of week\n",
        "df['day_of_week'] = df['datetime'].dt.day_name()\n",
        "df['day_of_week_num'] = df['datetime'].dt.day_of_week\n",
        "\n",
        "# Extract time (hour and minute)\n",
        "df['hour'] = df['datetime'].dt.hour\n",
        "\n",
        "df['minute'] = df['datetime'].dt.minute\n",
        "\n",
        "\n",
        "# Optional: keep only those columns\n",
        "df = df[['day_of_week', 'day_of_week_num', 'hour', 'minute', 'Junction', 'Vehicles']]\n",
        "\n",
        "print(df.head())"
      ],
      "metadata": {
        "colab": {
          "base_uri": "https://localhost:8080/"
        },
        "id": "0N6btYujqbfd",
        "outputId": "14a114af-f80a-4290-ea22-7acca238fd8d"
      },
      "execution_count": null,
      "outputs": [
        {
          "output_type": "stream",
          "name": "stdout",
          "text": [
            "  day_of_week  day_of_week_num  hour  minute  Junction  Vehicles\n",
            "0      Sunday                6     0       0         1        15\n",
            "1      Sunday                6     1       0         1        13\n",
            "2      Sunday                6     2       0         1        10\n",
            "3      Sunday                6     3       0         1         7\n",
            "4      Sunday                6     4       0         1         9\n"
          ]
        }
      ]
    },
    {
      "cell_type": "code",
      "source": [
        "# Normalize hour\n",
        "mean =df['hour'].mean()\n",
        "std =df['hour'].std()\n",
        "df['hour_norm'] = (df['hour']- mean)/std\n",
        "\n",
        "mean =df['day_of_week_num'].mean()\n",
        "std =df['day_of_week_num'].std()\n",
        "df['day_of_week_num_norm'] = (df['day_of_week_num']- mean)/std\n",
        "\n",
        "mean =df['Vehicles'].mean()\n",
        "std =df['Vehicles'].std()\n",
        "df['vehicles_norm'] = (df['Vehicles']- mean)/std\n",
        "\n",
        "mean =df['Junction'].mean()\n",
        "std =df['Junction'].std()\n",
        "df['junction_norm'] = (df['Junction']- mean)/std\n",
        "\n",
        "# Optional: keep only those columns\n",
        "df = df[['day_of_week_num_norm', 'hour_norm', 'junction_norm', 'vehicles_norm']]\n",
        "\n",
        "print(df.head())"
      ],
      "metadata": {
        "colab": {
          "base_uri": "https://localhost:8080/"
        },
        "id": "C8tNoLk0vHim",
        "outputId": "722e5513-156f-4197-d798-fd5fd31dbfad"
      },
      "execution_count": null,
      "outputs": [
        {
          "output_type": "stream",
          "name": "stdout",
          "text": [
            "   day_of_week_num_norm  hour_norm  junction_norm  vehicles_norm\n",
            "0              1.501982  -1.661308      -1.220893      -0.375485\n",
            "1              1.501982  -1.516846      -1.220893      -0.471870\n",
            "2              1.501982  -1.372384      -1.220893      -0.616448\n",
            "3              1.501982  -1.227923      -1.220893      -0.761026\n",
            "4              1.501982  -1.083461      -1.220893      -0.664641\n"
          ]
        }
      ]
    },
    {
      "cell_type": "code",
      "source": [
        "import numpy as np\n",
        "\n",
        "# Select features (inputs)\n",
        "features = ['day_of_week_num_norm', 'hour_norm', 'junction_norm', 'vehicles_norm']\n",
        "data = df[features].values.astype(np.float32)\n",
        "\n",
        "# Sequence length\n",
        "seq_len = 1\n",
        "X, y = [], []\n",
        "\n",
        "for i in range(len(data) - seq_len):\n",
        "    X.append(data[i:i+seq_len])      # 24 hours of data\n",
        "    y.append(data[i+seq_len, -1])    # next hour's value\n",
        "\n",
        "X = np.array(X)\n",
        "y = np.array(y).reshape(-1, 1)\n",
        "\n",
        "print(X.shape, y.shape)  # e.g. (N, 24, 4), (N, 1)"
      ],
      "metadata": {
        "colab": {
          "base_uri": "https://localhost:8080/"
        },
        "id": "sSGHZUcuvRt1",
        "outputId": "3627b87a-a753-4b38-ff56-cca1e36320d1"
      },
      "execution_count": null,
      "outputs": [
        {
          "output_type": "stream",
          "name": "stdout",
          "text": [
            "(48119, 1, 4) (48119, 1)\n"
          ]
        }
      ]
    },
    {
      "cell_type": "code",
      "source": [
        "import torch\n",
        "\n",
        "X = torch.tensor(X)\n",
        "y = torch.tensor(y)\n",
        "\n",
        "print(X.shape, y.shape)\n",
        "\n",
        "X_train = X[:40000]\n",
        "X_test = X[40001:]\n",
        "print(X_train.shape, X_test.shape)\n",
        "\n",
        "y_train = y[:40000]\n",
        "y_test = y[40001:]\n",
        "print(y_train.shape, y_test.shape)"
      ],
      "metadata": {
        "colab": {
          "base_uri": "https://localhost:8080/"
        },
        "id": "B8furL0m8XZL",
        "outputId": "63fb2328-ab5c-4cbd-b403-ff3d3698acac"
      },
      "execution_count": null,
      "outputs": [
        {
          "output_type": "stream",
          "name": "stdout",
          "text": [
            "torch.Size([48119, 1, 4]) torch.Size([48119, 1])\n",
            "torch.Size([40000, 1, 4]) torch.Size([8118, 1, 4])\n",
            "torch.Size([40000, 1]) torch.Size([8118, 1])\n"
          ]
        },
        {
          "output_type": "stream",
          "name": "stderr",
          "text": [
            "/tmp/ipython-input-2621937081.py:3: UserWarning: To copy construct from a tensor, it is recommended to use sourceTensor.detach().clone() or sourceTensor.detach().clone().requires_grad_(True), rather than torch.tensor(sourceTensor).\n",
            "  X = torch.tensor(X)\n",
            "/tmp/ipython-input-2621937081.py:4: UserWarning: To copy construct from a tensor, it is recommended to use sourceTensor.detach().clone() or sourceTensor.detach().clone().requires_grad_(True), rather than torch.tensor(sourceTensor).\n",
            "  y = torch.tensor(y)\n"
          ]
        }
      ]
    }
  ]
}